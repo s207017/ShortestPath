{
 "cells": [
  {
   "cell_type": "code",
   "execution_count": 1,
   "metadata": {},
   "outputs": [],
   "source": [
    "import json"
   ]
  },
  {
   "cell_type": "code",
   "execution_count": 2,
   "metadata": {},
   "outputs": [],
   "source": [
    "with open('Cost.json') as json_file:\n",
    "    cost = json.load(json_file)\n",
    "\n",
    "with open('Dist.json') as json_file:\n",
    "    Dist = json.load(json_file)\n",
    "\n",
    "with open('G.json') as json_file:\n",
    "    G = json.load(json_file)\n"
   ]
  },
  {
   "cell_type": "code",
   "execution_count": 3,
   "metadata": {},
   "outputs": [],
   "source": [
    "import math\n",
    "import numpy as np\n",
    "\n",
    "class AdjNode:\n",
    "    def __init__(self, value):\n",
    "        self.vertex = value\n",
    "        self.next = None\n",
    "        self.weight = math.inf\n",
    "\n",
    "class AdjListGraph(object):\n",
    "\n",
    "    def __init__(self, vertices_no):\n",
    "        self.vertices_no = vertices_no\n",
    "        self.graph = {}\n",
    "    \n",
    "    def add_edge(self, start, destination, weight):\n",
    "        exists = self.graph.get(start)\n",
    "        if exists:\n",
    "            self.graph[start][destination] = weight\n",
    "        else:\n",
    "            self.graph[start] = { destination: weight }\n",
    "\n",
    "    def fromjson(self, G, dist):\n",
    "        return 1\n",
    "\n",
    "    def getGraph(self):\n",
    "        return self.graph\n",
    "\n",
    "    def print_graph(self):\n",
    "        for key, values in self.graph.items():\n",
    "            print('Adjacent of ', key, ': ', values)\n"
   ]
  },
  {
   "cell_type": "code",
   "execution_count": 4,
   "metadata": {},
   "outputs": [
    {
     "name": "stderr",
     "output_type": "stream",
     "text": [
      "100%|██████████| 730100/730100 [00:00<00:00, 1066544.45it/s]\n"
     ]
    }
   ],
   "source": [
    "from tqdm import tqdm\n",
    "numberOfNodes = len(G)\n",
    "graph = AdjListGraph(numberOfNodes)\n",
    "\n",
    "\n",
    "for key in tqdm(Dist):\n",
    "    distance = Dist[key]\n",
    "    splitted = key.split(',')\n",
    "    sourceNode = int(splitted[0])\n",
    "    destinationNode = int(splitted[1])\n",
    "    graph.add_edge(sourceNode, destinationNode, distance)\n"
   ]
  },
  {
   "cell_type": "code",
   "execution_count": 5,
   "metadata": {},
   "outputs": [],
   "source": [
    "import math\n",
    "class minHeap:\n",
    "\n",
    "    def __init__(self, maxsize):\n",
    "        self.size = 0\n",
    "        self.maxsize = maxsize\n",
    "        self.Heap = [[0,0]] * (self.maxsize + 1)\n",
    "        self.Heap[0][1] = -1 * math.inf\n",
    "        self.FRONT = 1\n",
    "        #self.Heap[0][1] = -1 * inf #Initialise root element to minimum\n",
    "\n",
    "    def getSize(self):\n",
    "        return self.size\n",
    "\n",
    "    def parent(self, pos):\n",
    "        return pos//2\n",
    "    \n",
    "    def leftchild(self, pos):\n",
    "        return pos * 2\n",
    "    \n",
    "    def rightchild(self, pos):\n",
    "        return (pos * 2) + 1\n",
    "    \n",
    "    def isLeaf(self, pos):\n",
    "        return pos * 2 > self.size\n",
    "\n",
    "    def swap(self, pos1, pos2):\n",
    "        self.Heap[pos1], self.Heap[pos2] = self.Heap[pos2], self.Heap[pos1]\n",
    "    \n",
    "    def heapify(self, pos):\n",
    "            if not self.isLeaf(pos):\n",
    "                if (self.Heap[pos][1] > self.Heap[self.leftchild(pos)][1] or\n",
    "                self.Heap[pos][1] > self.Heap[self.rightchild(pos)][1]):\n",
    "                    if self.Heap[self.leftchild(pos)][1] < self.Heap[self.rightchild(pos)][1]:\n",
    "                        self.swap(pos, self.leftchild(pos))\n",
    "                        self.heapify(self.leftchild(pos))\n",
    "\n",
    "                    else:\n",
    "                        self.swap(pos, self.rightchild(pos))\n",
    "                        self.heapify(self.rightchild(pos))\n",
    "\n",
    "    def insert(self, element, weight):\n",
    "        if self.size >= self.maxsize:\n",
    "            return\n",
    "        insertitem = [element, weight]\n",
    "\n",
    "        self.size += 1\n",
    "        self.Heap[self.size] = insertitem\n",
    "        current = self.size \n",
    "        \n",
    "        while self.Heap[current][1] < self.Heap[self.parent(current)][1]:\n",
    "            self.swap(current, self.parent(current))\n",
    "            current = self.parent(current)\n",
    "\n",
    "\n",
    "    def totalheapify(self):\n",
    "        for pos in range(self.size // 2, 0, -1):\n",
    "            self.heapify(pos)\n",
    "\n",
    "\n",
    "    def extractCheapest(self):\n",
    "        if self.size <= 0:\n",
    "            return\n",
    "        popped = self.Heap[self.FRONT]\n",
    "        self.Heap[self.FRONT] = self.Heap[self.size]\n",
    "        self.size -= 1\n",
    "        self.heapify(self.FRONT)\n",
    "        return popped\n",
    "\n",
    "\n",
    "    def peek(self):\n",
    "        return self.Heap[1]\n",
    "\n",
    "\n",
    "\n",
    "    \n",
    "    def print(self):\n",
    "        for i in range(1, (self.size//2)+1):\n",
    "            print(\" PARENT: \" + str(self.Heap[i]) + \" LEFT CHILD: \" +\n",
    "                                str(self.Heap[2 * i]) + \" RIGHT CHILD: \" +\n",
    "                                str(self.Heap[2 * i + 1]))\n",
    "\n",
    "class priorityQueueHeap:\n",
    "\n",
    "    def __init__(self, maxsize):\n",
    "        self.heap = minHeap(maxsize)\n",
    "        self.size = 0\n",
    "        \n",
    "    def isEmpty(self):\n",
    "        if self.heap.getSize() == 0:\n",
    "            return True\n",
    "    \n",
    "    def getMin(self):\n",
    "        return self.heap.peek()\n",
    "\n",
    "    def delete(self):\n",
    "        self.size -= 0\n",
    "        return self.heap.extractCheapest()\n",
    "\n",
    "    def insert(self, element, weight):\n",
    "        self.heap.insert(element, weight)\n",
    "        self.size += 1 \n",
    "\n",
    "    def extractCheapest(self):\n",
    "        self.size -= 1\n",
    "        return self.heap.extractCheapest()\n",
    "        \n",
    "    def print(self):\n",
    "        self.heap.print()"
   ]
  },
  {
   "cell_type": "code",
   "execution_count": 10,
   "metadata": {},
   "outputs": [],
   "source": [
    "import time\n",
    "\n",
    "def ucs(g, src, destination):\n",
    "\n",
    "    visited = {  }\n",
    "    queue = priorityQueueHeap(len(g))\n",
    "    distance = {}\n",
    "    accumulated_cost = {}\n",
    "    for i in range(1, len(g) + 1):\n",
    "        distance[i] = math.inf\n",
    "        visited[i] = 0\n",
    "        accumulated_cost[i] = 0\n",
    "    distance[src] = 0\n",
    "    queue.insert(src, 0)\n",
    "    predecessor = { src : -1 }\n",
    "    #current = src\n",
    "\n",
    "    while not queue.isEmpty():\n",
    "        node = queue.extractCheapest()\n",
    "        current = node[0]\n",
    "\n",
    "        visited[current] = 1\n",
    "        if current == destination:\n",
    "            return predecessor, distance\n",
    "        # if current == destination:\n",
    "        #     return distance, predecessor\n",
    "        #print(g[current])\n",
    "        for node, edge_distance, edge_cost in g[current].items():\n",
    "            if visited[node] == 0 and distance[node] > distance[current] + edge_distance:\n",
    "                distance[node] = distance[current] + edge_distance\n",
    "                predecessor[node] = current\n",
    "                accumulated_cost[node] = accumulated_cost[current] + edge_cost\n",
    "                queue.insert(node, distance[node])\n",
    "        #print('distance: ', distance)\n",
    "    \n",
    "    #return predecessor, distance\n",
    "        \n",
    "\n",
    "\n",
    "\n",
    "\n",
    "#meet in the middle to reduce the time complexity\n",
    "def print_route(predecessor, source, destination):\n",
    "    route = []\n",
    "    while destination != -1:\n",
    "        route.append(destination)\n",
    "        destination = predecessor[destination]\n",
    "\n",
    "    route = [str(index) for index in route]\n",
    "    route.reverse()\n",
    "\n",
    "    output_string = '->'.join(route)\n",
    "    return output_string\n",
    "        \n",
    "    \n"
   ]
  },
  {
   "cell_type": "code",
   "execution_count": 8,
   "metadata": {},
   "outputs": [
    {
     "name": "stdout",
     "output_type": "stream",
     "text": [
      "0.06776213645935059\n"
     ]
    }
   ],
   "source": [
    "import time\n",
    "start = time.time()\n",
    "g = graph.getGraph()\n",
    "predecessor, distance = ucs(g, 1, 50)\n",
    "end = time.time()\n",
    "print(end - start)"
   ]
  },
  {
   "cell_type": "code",
   "execution_count": 9,
   "metadata": {},
   "outputs": [
    {
     "data": {
      "text/plain": [
       "148648.63722140007"
      ]
     },
     "execution_count": 9,
     "metadata": {},
     "output_type": "execute_result"
    }
   ],
   "source": [
    "distance[50]"
   ]
  },
  {
   "cell_type": "code",
   "execution_count": 94,
   "metadata": {},
   "outputs": [
    {
     "name": "stdout",
     "output_type": "stream",
     "text": [
      "1->1363->1358->1357->1356->1276->1273->1277->1269->1267->1268->1284->1283->1282->1255->1253->1260->1259->1249->1246->963->964->962->1002->952->1000->998->994->995->996->987->988->979->980->969->977->989->990->991->2369->2366->2340->2338->2339->2333->2334->2329->2029->2027->2019->2022->2000->1996->1997->1993->1992->1989->1984->2001->1900->1875->1874->1965->1963->1964->1923->1944->1945->1938->1937->1939->1935->1931->1934->1673->1675->1674->1837->1671->1828->1825->1817->1815->1634->1814->1813->1632->1631->1742->1741->1740->1739->1591->1689->1585->1584->1688->1579->1679->1677->104->5680->5418->5431->5425->5424->5422->5413->5412->5411->66->5392->5391->5388->5291->5278->5289->5290->5283->5284->5280->50\n"
     ]
    }
   ],
   "source": [
    "route = print_route(predecessor, 1, 50)\n",
    "print(route)"
   ]
  },
  {
   "cell_type": "code",
   "execution_count": null,
   "metadata": {},
   "outputs": [],
   "source": []
  },
  {
   "cell_type": "code",
   "execution_count": null,
   "metadata": {},
   "outputs": [],
   "source": [
    "test = '1->1363->1358->1357->1356->1276->1273->1277->1269->1267->1268->1284->1283->1282->1255->1253->1260->1259->1249->1246->963->964->962->1002->952->1000->998->994->995->996->987->988->979->980->969->977->989->990->991->2369->2366->2340->2338->2339->2333->2334->2329->2029->2027->2019->2022->2000->1996->1997->1993->1992->1989->1984->2001->1900->1875->1874->1965->1963->1964->1923->1944->1945->1938->1937->1939->1935->1931->1934->1673->1675->1674->1837->1671->1828->1825->1817->1815->1634->1814->1813->1632->1631->1742->1741->1740->1739->1591->1689->1585->1584->1688->1579->1679->1677->104->5680->5418->5431->5425->5424->5422->5413->5412->5411->66->5392->5391->5388->5291->5278->5289->5290->5283->5284->5280->50'"
   ]
  },
  {
   "cell_type": "code",
   "execution_count": null,
   "metadata": {},
   "outputs": [
    {
     "name": "stdout",
     "output_type": "stream",
     "text": [
      "True\n"
     ]
    }
   ],
   "source": [
    "print(route == test)"
   ]
  },
  {
   "cell_type": "code",
   "execution_count": null,
   "metadata": {},
   "outputs": [
    {
     "data": {
      "text/plain": [
       "148648.63722140007"
      ]
     },
     "execution_count": 59,
     "metadata": {},
     "output_type": "execute_result"
    }
   ],
   "source": [
    "distance[49]"
   ]
  }
 ],
 "metadata": {
  "kernelspec": {
   "display_name": "Python 3.8.12 ('tf-test')",
   "language": "python",
   "name": "python3"
  },
  "language_info": {
   "codemirror_mode": {
    "name": "ipython",
    "version": 3
   },
   "file_extension": ".py",
   "mimetype": "text/x-python",
   "name": "python",
   "nbconvert_exporter": "python",
   "pygments_lexer": "ipython3",
   "version": "3.8.12"
  },
  "orig_nbformat": 4,
  "vscode": {
   "interpreter": {
    "hash": "ceb55381c4ccc4ae09878a4276ce2b28540d6904868a8385e947378c436a107d"
   }
  }
 },
 "nbformat": 4,
 "nbformat_minor": 2
}
